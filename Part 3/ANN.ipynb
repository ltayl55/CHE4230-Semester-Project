{
 "cells": [
  {
   "cell_type": "code",
   "execution_count": 13,
   "metadata": {},
   "outputs": [],
   "source": [
    "import numpy as np\n",
    "from sklearn.decomposition import PCA\n",
    "import pandas as pd\n",
    "from sklearn.datasets import load_digits\n",
    "from sklearn.model_selection import train_test_split\n",
    "from sklearn.preprocessing import StandardScaler\n",
    "from sklearn.neural_network import MLPClassifier\n",
    "import matplotlib.pyplot as plt\n",
    "import matplotlib.gridspec as gridspec\n",
    "from sklearn.cluster import DBSCAN\n",
    "from sklearn.cluster import OPTICS, cluster_optics_dbscan"
   ]
  },
  {
   "cell_type": "code",
   "execution_count": 14,
   "metadata": {},
   "outputs": [],
   "source": [
    "'reading data'\n",
    "\n",
    "mydata = pd.read_excel(r\"./../Data/RawData.xlsx\")\n",
    "mylabels = pd.read_excel(r\"./../Data/RawData_Label.xlsx\")\n",
    "mylabelsarray = np.array(mylabels)\n",
    "mylabelsarray = mylabelsarray[:, -1]"
   ]
  },
  {
   "cell_type": "code",
   "execution_count": 15,
   "metadata": {},
   "outputs": [
    {
     "name": "stdout",
     "output_type": "stream",
     "text": [
      "[[-1.73118283  0.08664536 -0.50970249 ... -0.10066195  0.21032273\n",
      "   0.        ]\n",
      " [-1.72944644  0.08484114 -0.3665744  ... -0.28157158 -0.37472402\n",
      "   0.        ]\n",
      " [-1.72771005  0.08177297  1.01491127 ... -0.25491056 -0.84601891\n",
      "   0.        ]\n",
      " ...\n",
      " [ 1.72771005 -2.27822554  4.42876952 ... -7.21537558  6.11931653\n",
      "   0.        ]\n",
      " [ 1.72944644 -2.28305604  5.94482899 ... -7.48439682  6.1003848\n",
      "   0.        ]\n",
      " [ 1.73118283 -2.27776132  3.94805948 ... -7.66535196  5.44054313\n",
      "   0.        ]]\n"
     ]
    }
   ],
   "source": [
    "'scaling data'\n",
    "\n",
    "myscaled = StandardScaler().fit(mydata)\n",
    "\n",
    "mydata_scaled = myscaled.transform(mydata)\n",
    "\n",
    "mdscaled_array = np.array(mydata_scaled)\n",
    "\n",
    "print(mdscaled_array)\n"
   ]
  },
  {
   "cell_type": "code",
   "execution_count": 16,
   "metadata": {},
   "outputs": [],
   "source": [
    "'doing train test split'\n",
    "\n",
    "x_train, x_test, y_train, y_test = train_test_split(mdscaled_array, mylabelsarray, test_size=0.5, random_state=42)\n",
    "\n",
    "y_train = y_train.reshape(-1, 1)\n",
    "y_test = y_test.reshape(-1, 1)\n"
   ]
  },
  {
   "cell_type": "code",
   "execution_count": 17,
   "metadata": {},
   "outputs": [
    {
     "name": "stdout",
     "output_type": "stream",
     "text": [
      "[2 2 2 ... 6 6 6]\n"
     ]
    }
   ],
   "source": [
    "print(mylabelsarray)"
   ]
  },
  {
   "cell_type": "code",
   "execution_count": 18,
   "metadata": {},
   "outputs": [
    {
     "name": "stdout",
     "output_type": "stream",
     "text": [
      "[[-1.73118283  0.08664536 -0.50970249 ... -0.10066195  0.21032273\n",
      "   0.        ]\n",
      " [-1.72944644  0.08484114 -0.3665744  ... -0.28157158 -0.37472402\n",
      "   0.        ]\n",
      " [-1.72771005  0.08177297  1.01491127 ... -0.25491056 -0.84601891\n",
      "   0.        ]\n",
      " ...\n",
      " [ 1.72771005 -2.27822554  4.42876952 ... -7.21537558  6.11931653\n",
      "   0.        ]\n",
      " [ 1.72944644 -2.28305604  5.94482899 ... -7.48439682  6.1003848\n",
      "   0.        ]\n",
      " [ 1.73118283 -2.27776132  3.94805948 ... -7.66535196  5.44054313\n",
      "   0.        ]]\n"
     ]
    }
   ],
   "source": [
    "print(mdscaled_array)"
   ]
  },
  {
   "cell_type": "code",
   "execution_count": 20,
   "metadata": {},
   "outputs": [
    {
     "name": "stderr",
     "output_type": "stream",
     "text": [
      "c:\\Users\\luke_\\Documents\\Anaconda\\lib\\site-packages\\sklearn\\neural_network\\_multilayer_perceptron.py:1109: DataConversionWarning: A column-vector y was passed when a 1d array was expected. Please change the shape of y to (n_samples, ), for example using ravel().\n",
      "  y = column_or_1d(y, warn=True)\n",
      "c:\\Users\\luke_\\Documents\\Anaconda\\lib\\site-packages\\sklearn\\neural_network\\_multilayer_perceptron.py:692: ConvergenceWarning: Stochastic Optimizer: Maximum iterations (200) reached and the optimization hasn't converged yet.\n",
      "  warnings.warn(\n"
     ]
    },
    {
     "data": {
      "text/plain": [
       "0.87374749498998"
      ]
     },
     "execution_count": 20,
     "metadata": {},
     "output_type": "execute_result"
    }
   ],
   "source": [
    "myANN = MLPClassifier(hidden_layer_sizes=(5, 2))\n",
    "\n",
    "myANN.fit(x_train, y_train)\n",
    "\n",
    "myANN.predict(x_test)\n",
    "\n",
    "myANN.score(x_test, y_test)\n",
    "\n"
   ]
  }
 ],
 "metadata": {
  "kernelspec": {
   "display_name": "base",
   "language": "python",
   "name": "python3"
  },
  "language_info": {
   "codemirror_mode": {
    "name": "ipython",
    "version": 3
   },
   "file_extension": ".py",
   "mimetype": "text/x-python",
   "name": "python",
   "nbconvert_exporter": "python",
   "pygments_lexer": "ipython3",
   "version": "3.9.13"
  },
  "orig_nbformat": 4
 },
 "nbformat": 4,
 "nbformat_minor": 2
}

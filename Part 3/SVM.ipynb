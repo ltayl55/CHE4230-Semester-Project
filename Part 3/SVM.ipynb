{
 "cells": [
  {
   "cell_type": "code",
   "execution_count": null,
   "metadata": {},
   "outputs": [],
   "source": [
    "#SVM Fault Classifier\n",
    "import numpy as np\n",
    "from sklearn.decomposition import PCA\n",
    "import pandas as pd\n",
    "from sklearn.datasets import load_digits\n",
    "from sklearn.model_selection import train_test_split\n",
    "from sklearn.preprocessing import StandardScaler\n",
    "from sklearn import svm\n",
    "import matplotlib.pyplot as plt\n",
    "import matplotlib.gridspec as gridspec\n",
    "from sklearn.cluster import DBSCAN\n",
    "from sklearn.cluster import OPTICS, cluster_optics_dbscan"
   ]
  },
  {
   "cell_type": "code",
   "execution_count": null,
   "metadata": {},
   "outputs": [],
   "source": [
    "'reading data'\n",
    "\n",
    "mydata = pd.read_excel(r\"./../Data/RawData.xlsx\")\n",
    "mylabels = pd.read_excel(r\"./../Data/RawData_Label.xlsx\")\n",
    "mylabelsarray = np.array(mylabels)\n",
    "mylabelsarray = mylabelsarray[:, -1]"
   ]
  },
  {
   "cell_type": "code",
   "execution_count": null,
   "metadata": {},
   "outputs": [],
   "source": [
    "'scaling data'\n",
    "\n",
    "myscaled = StandardScaler().fit(mydata)\n",
    "\n",
    "mydata_scaled = myscaled.transform(mydata)\n",
    "\n",
    "mdscaled_array = np.array(mydata_scaled)\n",
    "\n",
    "print(mdscaled_array)\n"
   ]
  },
  {
   "cell_type": "code",
   "execution_count": null,
   "metadata": {},
   "outputs": [],
   "source": [
    "'doing train test split'\n",
    "\n",
    "x_train, x_test, y_train, y_test = train_test_split(mdscaled_array, mylabelsarray, test_size=0.5, random_state=42)\n",
    "\n",
    "y_train = y_train.reshape(-1, 1)\n",
    "y_test = y_test.reshape(-1, 1)\n"
   ]
  },
  {
   "cell_type": "code",
   "execution_count": null,
   "metadata": {},
   "outputs": [],
   "source": [
    "mysvm = svm.SVC()\n",
    "\n",
    "mysvm.fit(x_train, y_train)\n",
    "\n",
    "mysvm.score(x_test, y_test)"
   ]
  }
 ],
 "metadata": {
  "language_info": {
   "name": "python"
  },
  "orig_nbformat": 4
 },
 "nbformat": 4,
 "nbformat_minor": 2
}
